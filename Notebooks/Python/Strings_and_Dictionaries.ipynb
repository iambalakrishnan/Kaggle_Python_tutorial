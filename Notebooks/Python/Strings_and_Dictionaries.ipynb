{
  "nbformat": 4,
  "nbformat_minor": 0,
  "metadata": {
    "colab": {
      "name": "Strings and Dictionaries.ipynb",
      "provenance": [],
      "collapsed_sections": []
    },
    "kernelspec": {
      "name": "python3",
      "display_name": "Python 3"
    },
    "language_info": {
      "name": "python"
    }
  },
  "cells": [
    {
      "cell_type": "code",
      "metadata": {
        "colab": {
          "base_uri": "https://localhost:8080/"
        },
        "id": "9oIM7NK2ZOea",
        "outputId": "9ec723ef-ce07-47ff-846b-59185b55dfeb"
      },
      "source": [
        "#startswith() Without start and end Parameters\n",
        "claim = \"Pluto is a planet!\"\n",
        "print(claim.startswith('Pluto'))"
      ],
      "execution_count": 1,
      "outputs": [
        {
          "output_type": "stream",
          "text": [
            "True\n"
          ],
          "name": "stdout"
        }
      ]
    },
    {
      "cell_type": "code",
      "metadata": {
        "colab": {
          "base_uri": "https://localhost:8080/"
        },
        "id": "pbm01PL_ZiOh",
        "outputId": "9e65f628-2a01-4773-fe96-baf9e60ad596"
      },
      "source": [
        "#endswith() Without start and end Parameters\n",
        "claim = \"Pluto is a planet!\"\n",
        "print(claim.endswith('planet!'))"
      ],
      "execution_count": 2,
      "outputs": [
        {
          "output_type": "stream",
          "text": [
            "True\n"
          ],
          "name": "stdout"
        }
      ]
    },
    {
      "cell_type": "code",
      "metadata": {
        "colab": {
          "base_uri": "https://localhost:8080/"
        },
        "id": "922Zg1_1Zvm6",
        "outputId": "5706c381-f039-4dda-9fc6-9ec6d8186a8e"
      },
      "source": [
        "claim.split()"
      ],
      "execution_count": 3,
      "outputs": [
        {
          "output_type": "execute_result",
          "data": {
            "text/plain": [
              "['Pluto', 'is', 'a', 'planet!']"
            ]
          },
          "metadata": {
            "tags": []
          },
          "execution_count": 3
        }
      ]
    },
    {
      "cell_type": "code",
      "metadata": {
        "colab": {
          "base_uri": "https://localhost:8080/",
          "height": 69
        },
        "id": "-XUexde1Zvei",
        "outputId": "5047ae5c-bd61-47d2-bdd3-70cfd9e25217"
      },
      "source": [
        "' 👏 '.join([claim.upper() for word in claim])"
      ],
      "execution_count": 8,
      "outputs": [
        {
          "output_type": "execute_result",
          "data": {
            "application/vnd.google.colaboratory.intrinsic+json": {
              "type": "string"
            },
            "text/plain": [
              "'PLUTO IS A PLANET! 👏 PLUTO IS A PLANET! 👏 PLUTO IS A PLANET! 👏 PLUTO IS A PLANET! 👏 PLUTO IS A PLANET! 👏 PLUTO IS A PLANET! 👏 PLUTO IS A PLANET! 👏 PLUTO IS A PLANET! 👏 PLUTO IS A PLANET! 👏 PLUTO IS A PLANET! 👏 PLUTO IS A PLANET! 👏 PLUTO IS A PLANET! 👏 PLUTO IS A PLANET! 👏 PLUTO IS A PLANET! 👏 PLUTO IS A PLANET! 👏 PLUTO IS A PLANET! 👏 PLUTO IS A PLANET! 👏 PLUTO IS A PLANET!'"
            ]
          },
          "metadata": {
            "tags": []
          },
          "execution_count": 8
        }
      ]
    },
    {
      "cell_type": "code",
      "metadata": {
        "colab": {
          "base_uri": "https://localhost:8080/",
          "height": 35
        },
        "id": "PDWKqs2GZvTr",
        "outputId": "204d4e6f-dee0-4138-f8f6-ce04838c63a7"
      },
      "source": [
        "planet = 'Pluto'\n",
        "position = 9\n",
        "#If we want to throw in any non-string objects, we have to be careful to call str() on them first\n",
        "planet + \", you'll always be the \" + str(position) + \"th planet to me.\""
      ],
      "execution_count": 11,
      "outputs": [
        {
          "output_type": "execute_result",
          "data": {
            "application/vnd.google.colaboratory.intrinsic+json": {
              "type": "string"
            },
            "text/plain": [
              "\"Pluto, you'll always be the 9th planet to me.\""
            ]
          },
          "metadata": {
            "tags": []
          },
          "execution_count": 11
        }
      ]
    },
    {
      "cell_type": "code",
      "metadata": {
        "colab": {
          "base_uri": "https://localhost:8080/",
          "height": 35
        },
        "id": "_mn9Y-tyZvKS",
        "outputId": "a243ff95-c818-4071-b171-3fdd42839af0"
      },
      "source": [
        "#So much cleaner! We call .format() on a \"format string\", where the Python values we want to insert are represented with {} placeholders.\n",
        "#we didn't even have to call str() to convert position from an int. format() takes care of that for us.\n",
        "#If that was all that format() did, it would still be incredibly useful. But as it turns out, it can do a lot more. Here's just a taste:\n",
        "\"{}, you'll always be the {}th planet to me.\".format(planet, position)"
      ],
      "execution_count": 13,
      "outputs": [
        {
          "output_type": "execute_result",
          "data": {
            "application/vnd.google.colaboratory.intrinsic+json": {
              "type": "string"
            },
            "text/plain": [
              "\"Pluto, you'll always be the 9th planet to me.\""
            ]
          },
          "metadata": {
            "tags": []
          },
          "execution_count": 13
        }
      ]
    },
    {
      "cell_type": "code",
      "metadata": {
        "colab": {
          "base_uri": "https://localhost:8080/",
          "height": 35
        },
        "id": "RVv8oN67Zu8u",
        "outputId": "2af6884f-945b-4f7e-f122-7d1a429ef75a"
      },
      "source": [
        "pluto_mass = 1.303 * 10**22\n",
        "earth_mass = 5.9722 * 10**24\n",
        "population = 52910390\n",
        "#         2 decimal points   3 decimal points, format as percent     separate with commas\n",
        "\"{} weighs about {:.2} kilograms ({:.3%} of Earth's mass). It is home to {:,} Plutonians.\".format(\n",
        "    planet, pluto_mass, pluto_mass / earth_mass, population,)"
      ],
      "execution_count": 15,
      "outputs": [
        {
          "output_type": "execute_result",
          "data": {
            "application/vnd.google.colaboratory.intrinsic+json": {
              "type": "string"
            },
            "text/plain": [
              "\"Pluto weighs about 1.3e+22 kilograms (0.218% of Earth's mass). It is home to 52,910,390 Plutonians.\""
            ]
          },
          "metadata": {
            "tags": []
          },
          "execution_count": 15
        }
      ]
    },
    {
      "cell_type": "code",
      "metadata": {
        "colab": {
          "base_uri": "https://localhost:8080/"
        },
        "id": "4W3N_Y9rg5lU",
        "outputId": "e7f20218-a9dc-421f-9523-21a9ee9347ca"
      },
      "source": [
        "# Referring to format() arguments by index, starting from 0\n",
        "s = \"\"\"Pluto's a {0}.\n",
        "No, it's a {1}.\n",
        "{0}!\n",
        "{1}!\"\"\".format('planet', 'dwarf planet')\n",
        "print(s)"
      ],
      "execution_count": 16,
      "outputs": [
        {
          "output_type": "stream",
          "text": [
            "Pluto's a planet.\n",
            "No, it's a dwarf planet.\n",
            "planet!\n",
            "dwarf planet!\n"
          ],
          "name": "stdout"
        }
      ]
    },
    {
      "cell_type": "code",
      "metadata": {
        "colab": {
          "base_uri": "https://localhost:8080/"
        },
        "id": "yZfNaEhO6sDh",
        "outputId": "9cf6a1c0-fd3e-4cb2-e0c8-319eac055d8e"
      },
      "source": [
        "numbers = {'one':1, 'two':2, 'three':3}\n",
        "numbers"
      ],
      "execution_count": 3,
      "outputs": [
        {
          "output_type": "execute_result",
          "data": {
            "text/plain": [
              "{'one': 1, 'three': 3, 'two': 2}"
            ]
          },
          "metadata": {
            "tags": []
          },
          "execution_count": 3
        }
      ]
    },
    {
      "cell_type": "code",
      "metadata": {
        "colab": {
          "base_uri": "https://localhost:8080/"
        },
        "id": "c3TfPPHG6sMH",
        "outputId": "ea022715-31bf-438b-dd6d-2e652fe7c98f"
      },
      "source": [
        "numbers['eleven'] = 11,11.2\n",
        "numbers"
      ],
      "execution_count": 4,
      "outputs": [
        {
          "output_type": "execute_result",
          "data": {
            "text/plain": [
              "{'eleven': (11, 11.2), 'one': 1, 'three': 3, 'two': 2}"
            ]
          },
          "metadata": {
            "tags": []
          },
          "execution_count": 4
        }
      ]
    },
    {
      "cell_type": "code",
      "metadata": {
        "colab": {
          "base_uri": "https://localhost:8080/"
        },
        "id": "BATqSE_a6sSR",
        "outputId": "f3d0a5a7-9fae-425a-f305-590cfc2226da"
      },
      "source": [
        "numbers['tweleve']=12\n",
        "numbers"
      ],
      "execution_count": 6,
      "outputs": [
        {
          "output_type": "execute_result",
          "data": {
            "text/plain": [
              "{'eleven': (11, 11.2), 'one': 1, 'three': 3, 'tweleve': 12, 'two': 2}"
            ]
          },
          "metadata": {
            "tags": []
          },
          "execution_count": 6
        }
      ]
    },
    {
      "cell_type": "code",
      "metadata": {
        "colab": {
          "base_uri": "https://localhost:8080/"
        },
        "id": "QFYMX-Z_6sVy",
        "outputId": "d7779262-8ea4-4f19-dda3-046ec16d53b9"
      },
      "source": [
        "\n",
        "numbers['one'] = 'Pluto'\n",
        "numbers"
      ],
      "execution_count": 7,
      "outputs": [
        {
          "output_type": "execute_result",
          "data": {
            "text/plain": [
              "{'eleven': (11, 11.2), 'one': 'Pluto', 'three': 3, 'tweleve': 12, 'two': 2}"
            ]
          },
          "metadata": {
            "tags": []
          },
          "execution_count": 7
        }
      ]
    },
    {
      "cell_type": "code",
      "metadata": {
        "colab": {
          "base_uri": "https://localhost:8080/"
        },
        "id": "Af6O6hcR6sZr",
        "outputId": "35cc616d-24f6-47e3-e2e6-92740f9f4548"
      },
      "source": [
        "planets = ['Mercury', 'Venus', 'Earth', 'Mars', 'Jupiter', 'Saturn', 'Uranus', 'Neptune']\n",
        "planet_to_initial = {planet: planet[0] for planet in planets}\n",
        "planet_to_initial"
      ],
      "execution_count": 8,
      "outputs": [
        {
          "output_type": "execute_result",
          "data": {
            "text/plain": [
              "{'Earth': 'E',\n",
              " 'Jupiter': 'J',\n",
              " 'Mars': 'M',\n",
              " 'Mercury': 'M',\n",
              " 'Neptune': 'N',\n",
              " 'Saturn': 'S',\n",
              " 'Uranus': 'U',\n",
              " 'Venus': 'V'}"
            ]
          },
          "metadata": {
            "tags": []
          },
          "execution_count": 8
        }
      ]
    },
    {
      "cell_type": "code",
      "metadata": {
        "colab": {
          "base_uri": "https://localhost:8080/"
        },
        "id": "JrvhKg7FhTdt",
        "outputId": "e8287272-4425-4523-9b57-667526beb57b"
      },
      "source": [
        "numbers.keys()"
      ],
      "execution_count": 10,
      "outputs": [
        {
          "output_type": "execute_result",
          "data": {
            "text/plain": [
              "dict_keys(['one', 'two', 'three', 'eleven', 'tweleve'])"
            ]
          },
          "metadata": {
            "tags": []
          },
          "execution_count": 10
        }
      ]
    },
    {
      "cell_type": "code",
      "metadata": {
        "colab": {
          "base_uri": "https://localhost:8080/"
        },
        "id": "f8uzX53o-Ha8",
        "outputId": "966d2c88-5bde-42fc-f333-29c08abe6b4a"
      },
      "source": [
        "numbers.values()"
      ],
      "execution_count": 11,
      "outputs": [
        {
          "output_type": "execute_result",
          "data": {
            "text/plain": [
              "dict_values(['Pluto', 2, 3, (11, 11.2), 12])"
            ]
          },
          "metadata": {
            "tags": []
          },
          "execution_count": 11
        }
      ]
    },
    {
      "cell_type": "code",
      "metadata": {
        "colab": {
          "base_uri": "https://localhost:8080/"
        },
        "id": "ad8YTyqQ-Hex",
        "outputId": "e4777dcb-a9af-473a-dba2-2888ebdf9cd7"
      },
      "source": [
        "for k in numbers:\n",
        "    print(\"{} = {}\".format(k, numbers[k]))"
      ],
      "execution_count": 12,
      "outputs": [
        {
          "output_type": "stream",
          "text": [
            "one = Pluto\n",
            "two = 2\n",
            "three = 3\n",
            "eleven = (11, 11.2)\n",
            "tweleve = 12\n"
          ],
          "name": "stdout"
        }
      ]
    },
    {
      "cell_type": "code",
      "metadata": {
        "colab": {
          "base_uri": "https://localhost:8080/"
        },
        "id": "so-YOB-_-HiD",
        "outputId": "ee7b788e-25cd-4624-ba09-f3c6f3e352b0"
      },
      "source": [
        "for k in numbers:\n",
        "  print(k)"
      ],
      "execution_count": 13,
      "outputs": [
        {
          "output_type": "stream",
          "text": [
            "one\n",
            "two\n",
            "three\n",
            "eleven\n",
            "tweleve\n"
          ],
          "name": "stdout"
        }
      ]
    },
    {
      "cell_type": "code",
      "metadata": {
        "colab": {
          "base_uri": "https://localhost:8080/",
          "height": 35
        },
        "id": "qtE8XvG2-Hlj",
        "outputId": "a86a39e0-08a5-4d98-bb98-a41367c62fc9"
      },
      "source": [
        "# Get all the initials, sort them alphabetically, and put them in a space-separated string.\n",
        "' '.join(sorted(planet_to_initial.values()))"
      ],
      "execution_count": 14,
      "outputs": [
        {
          "output_type": "execute_result",
          "data": {
            "application/vnd.google.colaboratory.intrinsic+json": {
              "type": "string"
            },
            "text/plain": [
              "'E J M M N S U V'"
            ]
          },
          "metadata": {
            "tags": []
          },
          "execution_count": 14
        }
      ]
    },
    {
      "cell_type": "code",
      "metadata": {
        "colab": {
          "base_uri": "https://localhost:8080/"
        },
        "id": "r4GNFSNX_ht6",
        "outputId": "eb0afc0a-20df-446a-a393-757202fe69a5"
      },
      "source": [
        "#The very useful dict.items() method lets us iterate over the keys and values of a dictionary simultaneously. (In Python jargon, an item refers to a key, value pair)\n",
        "\n",
        "for planet, initial in planet_to_initial.items():\n",
        "    print(\"{} begins with \\\"{}\\\"\".format(planet.rjust(10), initial))\n"
      ],
      "execution_count": 16,
      "outputs": [
        {
          "output_type": "stream",
          "text": [
            "   Mercury begins with \"M\"\n",
            "     Venus begins with \"V\"\n",
            "     Earth begins with \"E\"\n",
            "      Mars begins with \"M\"\n",
            "   Jupiter begins with \"J\"\n",
            "    Saturn begins with \"S\"\n",
            "    Uranus begins with \"U\"\n",
            "   Neptune begins with \"N\"\n"
          ],
          "name": "stdout"
        }
      ]
    },
    {
      "cell_type": "code",
      "metadata": {
        "id": "TwzjPy2m_s9g"
      },
      "source": [
        ""
      ],
      "execution_count": null,
      "outputs": []
    }
  ]
}